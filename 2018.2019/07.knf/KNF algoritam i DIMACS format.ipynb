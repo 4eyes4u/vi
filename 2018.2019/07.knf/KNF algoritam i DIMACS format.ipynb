{
 "cells": [
  {
   "cell_type": "code",
   "execution_count": 5,
   "metadata": {},
   "outputs": [],
   "source": [
    "''' \n",
    "Klasa za zapis formule. \n",
    "Formula moze imati argumente i to bi bili operandi koji ucestvuju u formuli. \n",
    "Npr. za operaciju /\\ imamo dva operanda.\n",
    "\n",
    "Za iskaznu formulu je vazna njena interpretacija \n",
    "(istinitosna vrednost; tacno, netacno) u datoj valuaciji. \n",
    "Valuacija svakom iskaznom slovu pridrzuje neku istinitosnu vrednost (tacno, netacno).\n",
    "\n",
    "Vise o ovome procitati u skripti (http://poincare.matf.bg.ac.rs/~janicic//courses/vi.pdf),\n",
    "u delu \"Sematika iskazne logike\" (78 strana).\n",
    "\n",
    "Glavni zadatak je da se za datu iskaznu formulu dobije valuacija u kojoj je formula tacna.\n",
    "'''\n",
    "class Formula():\n",
    "    def __init__(self, args=None):\n",
    "        self.args = args\n",
    "        \n",
    "# Logicka konstanta, tacno, te\n",
    "class T(Formula):\n",
    "    def __init__(self):\n",
    "        super().__init__()\n",
    "        \n",
    "    # Funkcija za ispis formule\n",
    "    def __str__(self):\n",
    "        return u'\\u22A4'\n",
    "    \n",
    "    # Interpretacija formule u datoj valuaciji je uvek tacno jer\n",
    "    # je u pitanju logicka konstanta kojoj je istinitosna vrednost uvek tacno.\n",
    "    def interpretation(self, valuation):\n",
    "        return True\n",
    "\n",
    "# Logicka konstanta, netacno, nete\n",
    "class F(Formula):\n",
    "    def __init__(self):\n",
    "        super().__init__()\n",
    "        \n",
    "    def __str__(self):\n",
    "        return u'\\u22A5'\n",
    "    \n",
    "    def interpretation(self, valuation):\n",
    "        return False\n",
    "\n",
    "# Iskazne promenljive\n",
    "class Letter(Formula):\n",
    "    def __init__(self, character):\n",
    "        super().__init__()\n",
    "        self.character = character\n",
    "        \n",
    "    def __str__(self):\n",
    "        return self.character\n",
    "    \n",
    "    # Interpretacija iskazne promenljive je jednaka valuaciji iskazne promenljive.\n",
    "    def interpretation(self, valuation):\n",
    "        return valuation[self.character]\n",
    "\n",
    "# Negacija    \n",
    "class Not(Formula):\n",
    "    def __init__(self, operand):\n",
    "        super().__init__([operand])\n",
    "        \n",
    "    # Koristi se unicode za ispis karaktera za negaciju        \n",
    "    def __str__(self):\n",
    "        return u'\\u00AC({})'.format(self.args[0])\n",
    "    \n",
    "    # Interpetacija se odredjuje kao negacija interpretacije operanda\n",
    "    def interpretation(self, valuation):\n",
    "        return not self.args[0].interpretation(valuation)\n",
    "    \n",
    "# Konjukcija    \n",
    "class And(Formula):\n",
    "    def __init__(self, operand1, operand2):\n",
    "        super().__init__([operand1, operand2])\n",
    "        \n",
    "    def __str__(self):\n",
    "        return u'(({}) \\u2227 ({}))'.format(self.args[0], self.args[1])\n",
    "    \n",
    "    def interpretation(self, valuation):\n",
    "        return self.args[0].interpretation(valuation) and self.args[1].interpretation(valuation)\n",
    "\n",
    "# Disjunkcija\n",
    "class Or(Formula):\n",
    "    def __init__(self, operand1, operand2):\n",
    "        super().__init__([operand1, operand2])\n",
    "        \n",
    "    def __str__(self):\n",
    "        return u'(({}) \\u2228 ({}))'.format(self.args[0], self.args[1])\n",
    "    \n",
    "    def interpretation(self, valuation):\n",
    "        return self.args[0].interpretation(valuation) or self.args[1].interpretation(valuation)\n",
    "    \n",
    "# Implikacija    \n",
    "class Imp(Formula):\n",
    "    def __init__(self, operand1, operand2):\n",
    "        super().__init__([operand1, operand2])\n",
    "        \n",
    "    def __str__(self):\n",
    "        return u'(({}) \\u21D2 ({}))'.format(self.args[0], self.args[1])\n",
    "    \n",
    "    def interpretation(self, valuation):\n",
    "        return not self.args[0].interpretation(valuation) or self.args[1].interpretation(valuation)\n",
    "    \n",
    "# Ekvivalencija    \n",
    "class Eq(Formula):\n",
    "    def __init__(self, operand1, operand2):\n",
    "        super().__init__([operand1, operand2])\n",
    "        \n",
    "    def __str__(self):\n",
    "        return u'(({}) \\u21D4 ({}))'.format(self.args[0], self.args[1])\n",
    "    \n",
    "    def interpretation(self, valuation):\n",
    "        return self.args[0].interpretation(valuation) == self.args[1].interpretation(valuation)"
   ]
  },
  {
   "cell_type": "code",
   "execution_count": 7,
   "metadata": {},
   "outputs": [
    {
     "name": "stdout",
     "output_type": "stream",
     "text": [
      "¬(p)\n",
      "((((⊤) ∨ (q))) ∧ (p))\n"
     ]
    },
    {
     "data": {
      "text/plain": [
       "True"
      ]
     },
     "execution_count": 7,
     "metadata": {},
     "output_type": "execute_result"
    }
   ],
   "source": [
    "p = Letter('p')\n",
    "q = Letter('q')\n",
    "f1 = Not(p)\n",
    "f2 = And(Or(T(), q), p)\n",
    "\n",
    "valuation = {\n",
    "    'p' : True,\n",
    "    'q' : False\n",
    "}\n",
    "\n",
    "print(f1)\n",
    "f1.interpretation(valuation)\n",
    "\n",
    "print(f2)\n",
    "f2.interpretation(valuation)"
   ]
  },
  {
   "cell_type": "code",
   "execution_count": 11,
   "metadata": {},
   "outputs": [],
   "source": [
    "'''\n",
    "Odredjivanje konjuktivne normalne forme za datu formulu.\n",
    "Algoritam i njegove osobine se moze naci u skripti \n",
    "(http://poincare.matf.bg.ac.rs/~janicic//courses/vi.pdf), \n",
    "u delu \"ormalne forme i potpuni skupovi veznika\" (strana 86).\n",
    "'''\n",
    "def CNF(formula):\n",
    "    if isinstance(formula, T) or isinstance(formula, F) or isinstance(formula, Letter):\n",
    "        return formula\n",
    "    \n",
    "    if isinstance(formula, Eq):\n",
    "        [A, B] = formula.args\n",
    "        return CNF(And(\n",
    "            Imp(A, B),\n",
    "            Imp(B, A)\n",
    "        ))\n",
    "    \n",
    "    if isinstance(formula, Imp):\n",
    "        [A, B] = formula.args\n",
    "        return CNF(Or(\n",
    "            Not(A),\n",
    "            B\n",
    "        ))\n",
    "    \n",
    "    if isinstance(formula, Not):\n",
    "        argF = CNF(formula.args[0])\n",
    "        \n",
    "        if isinstance(argF, And):\n",
    "            [A, B] = argF.args\n",
    "            return CNF(Or(\n",
    "                Not(A),\n",
    "                Not(B)\n",
    "            ))\n",
    "        \n",
    "        if isinstance(argF, Or):\n",
    "            [A, B] = argF.args\n",
    "            return CNF(And(\n",
    "                Not(A),\n",
    "                Not(B)\n",
    "            ))\n",
    "        \n",
    "        if isinstance(argF, Not):\n",
    "            return CNF(argF.args[0])\n",
    "        \n",
    "        return Not(argF)\n",
    "        \n",
    "    if isinstance(formula, Or):\n",
    "        [A, B] = formula.args\n",
    "        \n",
    "        A = CNF(A)\n",
    "        B = CNF(B)\n",
    "        \n",
    "        if isinstance(A, And):\n",
    "            return CNF(And(\n",
    "                    Or(A.args[0], B),\n",
    "                    Or(A.args[1], B)\n",
    "                ))\n",
    "            \n",
    "        \n",
    "        if isinstance(B, And):\n",
    "            return CNF(And(\n",
    "                    Or(A, B.args[0]),\n",
    "                    Or(A, B.args[1])\n",
    "                ))\n",
    "            \n",
    "        return Or(\n",
    "            A,\n",
    "            B\n",
    "        )\n",
    "    \n",
    "    if isinstance(formula, And):\n",
    "        return And(\n",
    "            CNF(formula.args[0]),\n",
    "            CNF(formula.args[1])\n",
    "        )"
   ]
  },
  {
   "cell_type": "code",
   "execution_count": 14,
   "metadata": {},
   "outputs": [
    {
     "name": "stdout",
     "output_type": "stream",
     "text": [
      "((((p) ∧ (q))) ∨ (((¬(p)) ∨ (q))))\n",
      "\n",
      "CNF:\n",
      "((((p) ∨ (((¬(p)) ∨ (q))))) ∧ (((q) ∨ (((¬(p)) ∨ (q))))))\n"
     ]
    }
   ],
   "source": [
    "f3 = Or(And(p, q), Or(Not(p), q))\n",
    "print(f3)\n",
    "print()\n",
    "print(\"CNF:\")\n",
    "print(CNF(f3))"
   ]
  },
  {
   "cell_type": "code",
   "execution_count": 15,
   "metadata": {},
   "outputs": [
    {
     "name": "stdout",
     "output_type": "stream",
     "text": [
      "((((p) ⇔ (q))) ⇒ (((¬(p)) ∧ (r))))\n",
      "\n",
      "CNF:\n",
      "((((((((((p) ∨ (q))) ∨ (¬(p)))) ∧ (((((p) ∨ (q))) ∨ (r))))) ∧ (((((((p) ∨ (¬(p)))) ∨ (¬(p)))) ∧ (((((p) ∨ (¬(p)))) ∨ (r))))))) ∧ (((((((((¬(q)) ∨ (q))) ∨ (¬(p)))) ∧ (((((¬(q)) ∨ (q))) ∨ (r))))) ∧ (((((((¬(q)) ∨ (¬(p)))) ∨ (¬(p)))) ∧ (((((¬(q)) ∨ (¬(p)))) ∨ (r))))))))\n"
     ]
    }
   ],
   "source": [
    "r = Letter('r')\n",
    "\n",
    "f = Imp(Eq(p,q),And(Not(p), r))\n",
    "\n",
    "print(f)\n",
    "print()\n",
    "print(\"CNF:\")\n",
    "print(CNF(f))"
   ]
  },
  {
   "cell_type": "code",
   "execution_count": 16,
   "metadata": {},
   "outputs": [],
   "source": [
    "'''\n",
    "Pomocne funkcije potrebne za odredjivanje DIMACS formata.\n",
    "'''\n",
    "# Niz literala koji se pojavljuju u klauzi\n",
    "def get_literals(clause):\n",
    "    if isinstance(clause, Or):\n",
    "        return get_literals(clause.args[0]) + get_literals(clause.args[1])\n",
    "    \n",
    "    else:\n",
    "        return [clause]\n",
    "\n",
    "# Za datu formulu u CNF-u napravi niz klauza, a za svaku klazu, napravi niz literala\n",
    "def get_clauses(cnf_formula):\n",
    "    if isinstance(cnf_formula, And):\n",
    "        return get_clauses(cnf_formula.args[0]) + get_clauses(cnf_formula.args[1])\n",
    "    \n",
    "    else:\n",
    "        return [get_literals(cnf_formula)]\n",
    "\n",
    "# U datoj formuli odredjuje sva iskazna slova koja se pojavljuju.\n",
    "def all_letters(formula):\n",
    "    if isinstance(formula, Letter):\n",
    "        return [formula.character]\n",
    "    \n",
    "    else:\n",
    "        if len(formula.args) == 1:\n",
    "            return all_letters(formula.args[0])\n",
    "        elif len(formula.args) == 2:\n",
    "            # Da se iskazna slova ne bi ponavljala, lista se pretvori u skup, a potom vrati u listu\n",
    "            return list(set(all_letters(formula.args[0]) + all_letters(formula.args[1])))\n",
    "        else:\n",
    "            return []    "
   ]
  },
  {
   "cell_type": "code",
   "execution_count": 26,
   "metadata": {},
   "outputs": [
    {
     "name": "stdout",
     "output_type": "stream",
     "text": [
      "((p) ∨ (((¬(q)) ∨ (r))))\n",
      "\n",
      "Literali:\n",
      "p\n",
      "¬(q)\n",
      "r\n",
      "\n",
      "Iskazna slova:\n",
      "p\n",
      "r\n",
      "q\n"
     ]
    }
   ],
   "source": [
    "klauza = Or(p, Or(Not(q), r))\n",
    "\n",
    "print(klauza)\n",
    "literali = get_literals(klauza)\n",
    "letters = all_letters(klauza)\n",
    "\n",
    "print()\n",
    "print(\"Literali:\")\n",
    "for l in literali:\n",
    "    print(l)\n",
    "    \n",
    "print()    \n",
    "print('Iskazna slova:')    \n",
    "for l in  letters:\n",
    "    print(l)"
   ]
  },
  {
   "cell_type": "code",
   "execution_count": 33,
   "metadata": {},
   "outputs": [
    {
     "name": "stdout",
     "output_type": "stream",
     "text": [
      "((((p) ∨ (q))) ∧ (((p) ∨ (((¬(q)) ∨ (r))))))\n",
      "\n",
      "Ispis literala u klauzama:\n",
      "[p, q, ]\n",
      "[p, ¬(q), r, ]\n"
     ]
    }
   ],
   "source": [
    "cnf_formula = And(Or(p, q), klauza)\n",
    "\n",
    "print(cnf_formula)\n",
    "\n",
    "niz_klauza = get_clauses(cnf_formula)\n",
    "\n",
    "print()\n",
    "print(\"Ispis literala u klauzama:\")\n",
    "for k in niz_klauza:\n",
    "    print('[', end=\"\")\n",
    "    for l in k:\n",
    "        print('{}, '.format(l), end=\"\")\n",
    "    print(']')"
   ]
  },
  {
   "cell_type": "code",
   "execution_count": 34,
   "metadata": {},
   "outputs": [],
   "source": [
    "'''\n",
    "Formula se zapisuje u DIMACS formatu koji je citljiviji i pogodniji za\n",
    "koriscenje u okviru automatskih resavaca.\n",
    "\n",
    "Opis dimacs formata pogledati u slajdovima sa casa (151 - 160 slajd) ili na\n",
    "https://people.sc.fsu.edu/~jburkardt/data/cnf/cnf.html\n",
    "'''\n",
    "def dimacs(formula):\n",
    "    formula_cnf = CNF(formula)\n",
    "    \n",
    "    letters = all_letters(formula_cnf)\n",
    "    \n",
    "    mapping = {}\n",
    "    \n",
    "    # Svakom iskaznom slovu se dodeljuje jedan broj\n",
    "    for (index, letter) in enumerate(letters):\n",
    "        mapping[letter] = index + 1\n",
    "        \n",
    "    clauses = get_clauses(formula_cnf)\n",
    "    \n",
    "    num_clauses = len(clauses)\n",
    "    num_letters = len(letters)\n",
    "    \n",
    "    # Prva linija DIMACS formata\n",
    "    header = 'p cnf {} {}\\n'.format(num_letters, num_clauses)\n",
    "    \n",
    "    body = ''\n",
    "    \n",
    "    # Za svaku klauzu se pravi jedana linija (oblika 1 2 -3 0)\n",
    "    for clause in clauses:\n",
    "        line = ''\n",
    "        \n",
    "        for literal in clause:\n",
    "            # Ukoliko je iskazno slovo ispisuje se njemu_dodeljen_broj\n",
    "            if isinstance(literal, Letter):\n",
    "                line += str(mapping[literal.character]) + ' '\n",
    "            # Ako nije iskazno slovo, onda je Not(iskazno_slovo) i ispisuje se\n",
    "            # minus njemu_dodeljen_broj\n",
    "            else:\n",
    "                line += str(- mapping[literal.args[0].character]) + ' '\n",
    "        \n",
    "        # Stavlja se 0 i novi red na kraj linije\n",
    "        line += '0\\n'\n",
    "        body += line\n",
    "        \n",
    "    return header + body"
   ]
  },
  {
   "cell_type": "code",
   "execution_count": 38,
   "metadata": {},
   "outputs": [
    {
     "name": "stdout",
     "output_type": "stream",
     "text": [
      "DIMACS:\n",
      "p cnf 2 2\n",
      "1 -1 2 0\n",
      "2 -1 2 0\n",
      "\n"
     ]
    }
   ],
   "source": [
    "# Zadato iznad\n",
    "# f3 = Or(And(p, q), Or(Not(p), q))\n",
    "\n",
    "print('DIMACS:')\n",
    "print(dimacs(f3))"
   ]
  },
  {
   "cell_type": "code",
   "execution_count": 39,
   "metadata": {},
   "outputs": [
    {
     "name": "stdout",
     "output_type": "stream",
     "text": [
      "DIMACS:\n",
      "p cnf 3 8\n",
      "1 3 -1 0\n",
      "1 3 2 0\n",
      "1 -1 -1 0\n",
      "1 -1 2 0\n",
      "-3 3 -1 0\n",
      "-3 3 2 0\n",
      "-3 -1 -1 0\n",
      "-3 -1 2 0\n",
      "\n"
     ]
    }
   ],
   "source": [
    "# Zadato iznad\n",
    "# f = Imp(Eq(p,q),And(Not(p), r))\n",
    "\n",
    "print('DIMACS:')\n",
    "print(dimacs(f))\n",
    "\n"
   ]
  },
  {
   "cell_type": "code",
   "execution_count": 40,
   "metadata": {},
   "outputs": [],
   "source": [
    "'''\n",
    "Naivni resavac. Pronalazi valuaciju u kojoj je formula tacna.\n",
    "'''\n",
    "def SAT(formula, valuation, letters, i):\n",
    "    if i == len(letters):\n",
    "        if formula.interpretation(valuation):\n",
    "            return valuation\n",
    "        else:\n",
    "            return False\n",
    "        \n",
    "    current_letter = letters[i]\n",
    "    valuation[current_letter] = True\n",
    "    \n",
    "    res = SAT(formula, valuation, letters, i + 1)\n",
    "    if res:\n",
    "        return res\n",
    "    \n",
    "    current_letter = letters[i]\n",
    "    valuation[current_letter] = False\n",
    "    \n",
    "    return SAT(formula, valuation, letters, i + 1)"
   ]
  },
  {
   "cell_type": "code",
   "execution_count": 41,
   "metadata": {},
   "outputs": [
    {
     "name": "stdout",
     "output_type": "stream",
     "text": [
      "Trivial SAT solver:\n",
      "{'p': True, 'r': True, 'q': False}\n",
      "\n"
     ]
    }
   ],
   "source": [
    "letters = all_letters(f)\n",
    "print('Trivial SAT solver:')\n",
    "solution = SAT(f, {}, letters, 0)\n",
    "print(solution)\n",
    "print()"
   ]
  },
  {
   "cell_type": "code",
   "execution_count": null,
   "metadata": {},
   "outputs": [],
   "source": []
  }
 ],
 "metadata": {
  "kernelspec": {
   "display_name": "Python 3",
   "language": "python",
   "name": "python3"
  },
  "language_info": {
   "codemirror_mode": {
    "name": "ipython",
    "version": 3
   },
   "file_extension": ".py",
   "mimetype": "text/x-python",
   "name": "python",
   "nbconvert_exporter": "python",
   "pygments_lexer": "ipython3",
   "version": "3.6.7"
  }
 },
 "nbformat": 4,
 "nbformat_minor": 2
}
