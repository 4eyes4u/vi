{
  "nbformat": 4,
  "nbformat_minor": 0,
  "metadata": {
    "colab": {
      "name": "VI DPLL.ipynb",
      "version": "0.3.2",
      "provenance": [],
      "collapsed_sections": []
    },
    "kernelspec": {
      "name": "python3",
      "display_name": "Python 3"
    }
  },
  "cells": [
    {
      "metadata": {
        "id": "kLtXTZgQpn_q",
        "colab_type": "code",
        "colab": {}
      },
      "cell_type": "code",
      "source": [
        "import copy"
      ],
      "execution_count": 0,
      "outputs": []
    },
    {
      "metadata": {
        "id": "n9y6J0TGpqAg",
        "colab_type": "code",
        "colab": {}
      },
      "cell_type": "code",
      "source": [
        "def replace_literal(D, literal, value):\n",
        "    num_clauses = len(D)\n",
        "    D_copy = copy.copy(D)\n",
        "    for i in range(num_clauses):\n",
        "        D_copy[i] = [value if l == literal else l for l in D_copy[i]]\n",
        "        D_copy[i] = ['-{}'.format(value) if l == -literal else l for l in D_copy[i]]\n",
        "        \n",
        "    return D_copy"
      ],
      "execution_count": 0,
      "outputs": []
    },
    {
      "metadata": {
        "id": "I9fCVmG-pqe9",
        "colab_type": "code",
        "colab": {
          "base_uri": "https://localhost:8080/",
          "height": 34
        },
        "outputId": "976e9ece-4520-4521-d655-46dd7f06f717"
      },
      "cell_type": "code",
      "source": [
        "D = [[1,2,-1],[-1, -2]]\n",
        "     \n",
        "replace_literal(D, 1, 'T')"
      ],
      "execution_count": 3,
      "outputs": [
        {
          "output_type": "execute_result",
          "data": {
            "text/plain": [
              "[['T', 2, '-T'], ['-T', -2]]"
            ]
          },
          "metadata": {
            "tags": []
          },
          "execution_count": 3
        }
      ]
    },
    {
      "metadata": {
        "id": "aoe3N3YJpsec",
        "colab_type": "code",
        "colab": {}
      },
      "cell_type": "code",
      "source": [
        "def parse_dimacs(dimacs_formula):\n",
        "    \"\"\"\n",
        "    Funkcija parsira formulu zapisanu u dimacs formatu\n",
        "    i vraca listu listi, odnosno listu klauza, pri cemu\n",
        "    su literali reprezentovani brojevima, a njihove negacije\n",
        "    negativnim brojevima.\n",
        "    \"\"\"\n",
        "    lines = dimacs_formula.split('\\n')\n",
        "    \n",
        "    D = []\n",
        "    \n",
        "    for line in lines:\n",
        "        if len(line) == 0 or line[0] == 'c' or line[0] == 'p':\n",
        "            continue;\n",
        "            \n",
        "        clause = []\n",
        "        \n",
        "        literals = [int(l) for l in line.split(' ')]\n",
        "        \n",
        "        for literal in literals:\n",
        "            if literal != 0:\n",
        "                clause.append(literal)\n",
        "                \n",
        "        D.append(clause)\n",
        "        \n",
        "    return D"
      ],
      "execution_count": 0,
      "outputs": []
    },
    {
      "metadata": {
        "id": "6wIJ8BeOpvmM",
        "colab_type": "code",
        "colab": {}
      },
      "cell_type": "code",
      "source": [
        "def DPLL(dimacs_formula):\n",
        "    D = parse_dimacs(dimacs_formula)\n",
        "    print('START:')\n",
        "    print(D)\n",
        "    return _DPLL(D, {})\n",
        "\n",
        "def _DPLL(D, valuation):\n",
        "    num_clauses = len(D)\n",
        "    \n",
        "    if num_clauses == 0:\n",
        "        return True, valuation\n",
        "    \n",
        "    # ---------------------------------------------------\n",
        "    # {NEGATION SUPSTITION}\n",
        "    # Menjamo ~F -> T, ~T -> F\n",
        "    # ---------------------------------------------------\n",
        "    # Menjamo ~T -> F i ~F -> T\n",
        "    new_D = []\n",
        "    has_changes = False\n",
        "    # Idemo klauzu po klauzu\n",
        "    for i in range(num_clauses):\n",
        "        clause = D[i]\n",
        "        m = len(clause)\n",
        "        \n",
        "        # Ako smo nasli praznu klauzu\n",
        "        if m == 0:\n",
        "            return False, None\n",
        "        \n",
        "        # Iteriramo kroz literale u i-toj klauzi\n",
        "        for j in range(m):\n",
        "            if clause[j] == '-T':\n",
        "                clause[j] = 'F'\n",
        "                has_changes = True\n",
        "            \n",
        "            elif clause[j] == '-F':\n",
        "                clause[j] = 'T'\n",
        "                has_changes = True\n",
        "        \n",
        "        new_D.append(clause)\n",
        "        \n",
        "    D = copy.copy(new_D)\n",
        "    \n",
        "    if has_changes:\n",
        "        print('NEGATION SUBSTITUTION:')\n",
        "        print(D)\n",
        "        \n",
        "        \n",
        "    # Brisemo sve literale jedna F:\n",
        "    new_D = []\n",
        "    has_changes = False\n",
        "    for clause in D:\n",
        "        new_clause = []\n",
        "        for l in clause:\n",
        "            if l != 'F':\n",
        "                new_clause.append(l)\n",
        "            else:\n",
        "                has_changes = True\n",
        "        new_D.append(new_clause)\n",
        "    \n",
        "    if has_changes:\n",
        "        D = copy.copy(new_D)\n",
        "        print(\"DELETED F from formula\")\n",
        "        print(D)\n",
        "\n",
        "    # Proveravamo da li se pojavila prazna klauza (ovo verovatno nije neophodno)\n",
        "    for clause in D:\n",
        "        if len(clause) == 0:\n",
        "            return False, None\n",
        "        \n",
        "    # ---------------------------------------------------\n",
        "    # {TAUTOLOGY}\n",
        "    # Ako neka klauza Ci sadrzi T ili sadrzi literal i\n",
        "    # njegovu negaciju, vracamo vrednost koju vraca\n",
        "    # DPLL(D \\ Ci).\n",
        "    # ---------------------------------------------------\n",
        "    new_D = []\n",
        "    has_changes = False\n",
        "       \n",
        "    for clause in D:\n",
        "        new_clause = []\n",
        "        keep_clause = True\n",
        "        \n",
        "        for literal in clause:\n",
        "            if literal == 'T':\n",
        "                keep_clause = False\n",
        "                has_changes = True\n",
        "                break\n",
        "                \n",
        "            if literal != 'F':\n",
        "                if -literal in clause:\n",
        "                    # Postoji literal i njegova negacija u klauzi\n",
        "                    keep_clause = False\n",
        "                    has_changes = True\n",
        "                    break\n",
        "                else:\n",
        "                    # Inace zadrzavamo literal\n",
        "                    new_clause.append(literal)\n",
        "            else:\n",
        "                has_changes = True\n",
        "                \n",
        "        if keep_clause:\n",
        "            new_D.append(new_clause)\n",
        "            \n",
        "    D = copy.copy(new_D)\n",
        "    if has_changes:\n",
        "        print('TAUTOLOGY:')\n",
        "        print(D)\n",
        "        return _DPLL(D, valuation)\n",
        "    \n",
        "    # ---------------------------------------------------\n",
        "    # {UNIT PROPAGATION}\n",
        "    # Ako je neka klauza jedinicna i jednaka nekom iskaznom\n",
        "    # slovu p, onda vracamo DPLL(D[p -> T])\n",
        "    # Ako je neka klauza jedinicna i jednaka nekom iskaznom\n",
        "    # slovu ~p, onda vracamo DPLL(D[p -> F])\n",
        "    # ---------------------------------------------------\n",
        "    new_D = []\n",
        "    has_changes = False\n",
        "    for clause in D:\n",
        "        new_clause = []\n",
        "        keep_clause = True\n",
        "        m = len(clause)\n",
        "        if m == 1:\n",
        "            # Jedinicna klauza\n",
        "            has_changes = True\n",
        "            l = clause[0]\n",
        "            if l > 0:\n",
        "                valuation[l] = True\n",
        "                new_D = replace_literal(D, abs(l), 'T')\n",
        "            else:\n",
        "                valuation[-l] = False\n",
        "                new_D = replace_literal(D, abs(l), 'F')\n",
        "            break\n",
        "        if keep_clause:\n",
        "            new_D.append(clause)\n",
        "    D = copy.copy(new_D)\n",
        "    if has_changes:\n",
        "        print('UNIT PROPAGATION')\n",
        "        print(D)\n",
        "        return _DPLL(D, valuation)\n",
        "    \n",
        "    # ---------------------------------------------------\n",
        "    # {PURE LITERAL}\n",
        "    # Ako D sadrzi literal p, ali ne i ~p,\n",
        "    # onda vracamo DPLL(D[p -> T]).\n",
        "    # Ako D sadrzi literal ~p, ali ne i p,\n",
        "    # onda vracamo DPLL(D[p -> F])\n",
        "    # ---------------------------------------------------\n",
        "    new_D = []\n",
        "    has_changes = False\n",
        "    all_literals = []\n",
        "    for clause in D:\n",
        "        all_literals += clause\n",
        "        \n",
        "    # Nadjemo sve jedinstvene literale\n",
        "    distinct_literals = list(set([l for l in all_literals]))\n",
        "    distinct_literals\n",
        "    print(distinct_literals)\n",
        "    for l in distinct_literals:\n",
        "        # Proveravamo da li za l ne postoji njegova negacija\n",
        "        if -l not in all_literals:\n",
        "            has_changes = True\n",
        "            if l > 0:\n",
        "                valuation[l] = True\n",
        "                new_D = replace_literal(D, abs(l), 'T')\n",
        "            else:\n",
        "                valuation[-l] = False\n",
        "                new_D = replace_literal(D, abs(l), 'F')\n",
        "            break\n",
        "            \n",
        "    if has_changes:\n",
        "        print('PURE LITERAL:')\n",
        "        D = copy.copy(new_D)\n",
        "        print(D)\n",
        "        return _DPLL(D, valuation)\n",
        "    \n",
        "    # ---------------------------------------------------\n",
        "    # {SPLIT}\n",
        "    # ---------------------------------------------------\n",
        "    new_D = []\n",
        "    # Ovo je vrlo vazan korak algoritma koji moze\n",
        "    # drasticno uticati na efikasnost izavrsavanja algoritma,\n",
        "    # jer odabir literala za korak SPLIT utice na dalji tok\n",
        "    # pretrage.\n",
        "    selected_literal = distinct_literals[0]\n",
        "    valuation[selected_literal] = True\n",
        "    new_D = replace_literal(D, selected_literal, 'T')\n",
        "    print('SPLIT [{}->T]:'.format(selected_literal))\n",
        "    print(new_D)\n",
        "    res, valuation = _DPLL(new_D, valuation)\n",
        "    \n",
        "    if res:\n",
        "        return True, valuation\n",
        "    \n",
        "    valuation[selected_literal] = False\n",
        "    new_D = replace_literal(D, selected_literal, 'F')\n",
        "    \n",
        "    print('SPLIT [{}->F]:'.format(selected_literal))\n",
        "    print(new_D)\n",
        "    return _DPLL(new_D, valuation)"
      ],
      "execution_count": 0,
      "outputs": []
    },
    {
      "metadata": {
        "id": "PshL7qGut0st",
        "colab_type": "code",
        "colab": {
          "base_uri": "https://localhost:8080/",
          "height": 323
        },
        "outputId": "acb66fa4-3624-4bd0-b6fb-f28cac019265"
      },
      "cell_type": "code",
      "source": [
        "dimacs = 'p cnf 3 2\\n1 2 3 0\\n-1 -2 -3 0\\n3 0'\n",
        "\n",
        "#test_D = [[-3, 4],[-1, 2, -3],[3,1,-2],['-T', '-F']]\n",
        "#_DPLL(D, {})\n",
        "\n",
        "DPLL(dimacs)"
      ],
      "execution_count": 6,
      "outputs": [
        {
          "output_type": "stream",
          "text": [
            "START:\n",
            "[[1, 2, 3], [-1, -2, -3], [3]]\n",
            "UNIT PROPAGATION\n",
            "[[1, 2, 'T'], [-1, -2, '-T'], ['T']]\n",
            "NEGATION SUBSTITUTION:\n",
            "[[1, 2, 'T'], [-1, -2, 'F'], ['T']]\n",
            "DELETED F from formula\n",
            "[[1, 2, 'T'], [-1, -2], ['T']]\n",
            "TAUTOLOGY:\n",
            "[[-1, -2]]\n",
            "[-1, -2]\n",
            "PURE LITERAL:\n",
            "[['-F', -2]]\n",
            "NEGATION SUBSTITUTION:\n",
            "[['T', -2]]\n",
            "TAUTOLOGY:\n",
            "[]\n"
          ],
          "name": "stdout"
        },
        {
          "output_type": "execute_result",
          "data": {
            "text/plain": [
              "(True, {1: False, 3: True})"
            ]
          },
          "metadata": {
            "tags": []
          },
          "execution_count": 6
        }
      ]
    },
    {
      "metadata": {
        "id": "q2FMRBqmt2Wy",
        "colab_type": "code",
        "colab": {
          "base_uri": "https://localhost:8080/",
          "height": 170
        },
        "outputId": "afcf3af7-b2c8-418c-b877-ccbaa2892c22"
      },
      "cell_type": "code",
      "source": [
        "_DPLL([['F', 1], ['T', 2]], {})"
      ],
      "execution_count": 7,
      "outputs": [
        {
          "output_type": "stream",
          "text": [
            "DELETED F from formula\n",
            "[[1], ['T', 2]]\n",
            "TAUTOLOGY:\n",
            "[[1]]\n",
            "UNIT PROPAGATION\n",
            "[['T']]\n",
            "TAUTOLOGY:\n",
            "[]\n"
          ],
          "name": "stdout"
        },
        {
          "output_type": "execute_result",
          "data": {
            "text/plain": [
              "(True, {1: True})"
            ]
          },
          "metadata": {
            "tags": []
          },
          "execution_count": 7
        }
      ]
    },
    {
      "metadata": {
        "id": "VbHO7idB1d3j",
        "colab_type": "code",
        "colab": {}
      },
      "cell_type": "code",
      "source": [
        ""
      ],
      "execution_count": 0,
      "outputs": []
    }
  ]
}